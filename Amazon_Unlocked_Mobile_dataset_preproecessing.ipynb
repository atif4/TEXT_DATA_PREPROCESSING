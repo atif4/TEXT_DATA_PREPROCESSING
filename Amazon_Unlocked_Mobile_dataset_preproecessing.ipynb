{
 "cells": [
  {
   "cell_type": "code",
   "execution_count": 6,
   "id": "7d093ac0",
   "metadata": {},
   "outputs": [],
   "source": [
    "#hide earrings \n",
    "import warnings\n",
    "warnings.filterwarnings('ignore')"
   ]
  },
  {
   "cell_type": "code",
   "execution_count": 1,
   "id": "e83c1168",
   "metadata": {},
   "outputs": [],
   "source": [
    "# EDA packages\n",
    "import pandas as pd"
   ]
  },
  {
   "cell_type": "code",
   "execution_count": 4,
   "id": "86a481aa",
   "metadata": {},
   "outputs": [],
   "source": [
    "#load data\n",
    "df = pd.read_csv(\"C:\\\\Users\\\\matif\\\\OneDrive\\\\Documents\\\\DS\\\\Amazon_Unlocked_Mobile.csv\")"
   ]
  },
  {
   "cell_type": "code",
   "execution_count": 7,
   "id": "57e96e8f",
   "metadata": {},
   "outputs": [],
   "source": [
    "#here i am droping all null values for forever \n",
    "df.dropna(inplace=True)"
   ]
  },
  {
   "cell_type": "code",
   "execution_count": 9,
   "id": "3a1feee1",
   "metadata": {},
   "outputs": [],
   "source": [
    "# the whole dataset is converted into lowercase()\n",
    "df=df.apply(lambda x: x.astype(str).str.lower()) "
   ]
  },
  {
   "cell_type": "code",
   "execution_count": 10,
   "id": "c94de03c",
   "metadata": {},
   "outputs": [],
   "source": [
    "''' here i am importing the cleaning package and the package\n",
    "    library is intended to solve the problems of\n",
    "    1)Cleaning unstructured text data.\n",
    "    2)Reducing noise in text.\n",
    "    3)Avoid repetition of the same code for pre-processing.'''\n",
    "import neattext as nfx"
   ]
  },
  {
   "cell_type": "code",
   "execution_count": 11,
   "id": "6fac98f1",
   "metadata": {},
   "outputs": [],
   "source": [
    "'''here i define function with two variables to get difference of previous and new columns\n",
    "afterwards i cleaned all unwantEd thkings fROM data such as below '''\n",
    "def get_clean_data_column (new_column_name , column_name ):\n",
    "    df[new_column_name] = df[column_name].apply(nfx.remove_emojis)\n",
    "    df[new_column_name] = df[new_column_name].apply(nfx.remove_numbers)\n",
    "    df[new_column_name] = df[new_column_name].apply(nfx.remove_punctuations)\n",
    "    df[new_column_name] = df[new_column_name].apply(nfx.remove_special_characters)\n",
    "    df[new_column_name] = df[new_column_name].apply(nfx.remove_multiple_spaces)\n",
    "    df[new_column_name] = df[new_column_name].apply(nfx.remove_stopwords)\n",
    "    df[new_column_name] = df[new_column_name].apply(nfx.remove_urls)\n",
    "    df[new_column_name] = df[new_column_name].apply(nfx.remove_visacard_addr)\n",
    "    df[new_column_name] = df[new_column_name].apply(nfx.remove_terms_in_bracket)\n",
    "    df[new_column_name] = df[new_column_name].apply(nfx.remove_street_address)\n",
    "    df[new_column_name] = df[new_column_name].apply(nfx.remove_puncts)\n",
    "    df[new_column_name] = df[new_column_name].apply(nfx.remove_postoffice_box)\n",
    "    df[new_column_name] = df[new_column_name].apply(nfx.remove_phone_numbers)\n",
    "    df[new_column_name] = df[new_column_name].apply(nfx.remove_html_tags)\n",
    "    df[new_column_name] = df[new_column_name].apply(nfx.remove_currency_symbols)\n",
    "    return df[new_column_name]"
   ]
  },
  {
   "cell_type": "code",
   "execution_count": 13,
   "id": "a7d9745b",
   "metadata": {},
   "outputs": [],
   "source": [
    "'''here i made a dictionary in which i gave the names of new and previous columns '''\n",
    "dict_names ={'Product Id':'Product Name',\n",
    "            'Review':'Reviews'}\n",
    "#this the loop in dictionary \n",
    "for i ,j in dict_names.items():\n",
    "    #here i m call my custom function to clean the dataset\n",
    "    get_clean_data_column(i,j)"
   ]
  },
  {
   "cell_type": "code",
   "execution_count": 14,
   "id": "4d5b456c",
   "metadata": {},
   "outputs": [
    {
     "data": {
      "text/html": [
       "<div>\n",
       "<style scoped>\n",
       "    .dataframe tbody tr th:only-of-type {\n",
       "        vertical-align: middle;\n",
       "    }\n",
       "\n",
       "    .dataframe tbody tr th {\n",
       "        vertical-align: top;\n",
       "    }\n",
       "\n",
       "    .dataframe thead th {\n",
       "        text-align: right;\n",
       "    }\n",
       "</style>\n",
       "<table border=\"1\" class=\"dataframe\">\n",
       "  <thead>\n",
       "    <tr style=\"text-align: right;\">\n",
       "      <th></th>\n",
       "      <th>Product Name</th>\n",
       "      <th>Product Id</th>\n",
       "    </tr>\n",
       "  </thead>\n",
       "  <tbody>\n",
       "    <tr>\n",
       "      <th>0</th>\n",
       "      <td>\"clear clean esn\" sprint epic 4g galaxy sph-d7...</td>\n",
       "      <td>clear clean esn sprint epic g galaxy sphdfront...</td>\n",
       "    </tr>\n",
       "    <tr>\n",
       "      <th>1</th>\n",
       "      <td>\"clear clean esn\" sprint epic 4g galaxy sph-d7...</td>\n",
       "      <td>clear clean esn sprint epic g galaxy sphdfront...</td>\n",
       "    </tr>\n",
       "    <tr>\n",
       "      <th>2</th>\n",
       "      <td>\"clear clean esn\" sprint epic 4g galaxy sph-d7...</td>\n",
       "      <td>clear clean esn sprint epic g galaxy sphdfront...</td>\n",
       "    </tr>\n",
       "    <tr>\n",
       "      <th>3</th>\n",
       "      <td>\"clear clean esn\" sprint epic 4g galaxy sph-d7...</td>\n",
       "      <td>clear clean esn sprint epic g galaxy sphdfront...</td>\n",
       "    </tr>\n",
       "    <tr>\n",
       "      <th>4</th>\n",
       "      <td>\"clear clean esn\" sprint epic 4g galaxy sph-d7...</td>\n",
       "      <td>clear clean esn sprint epic g galaxy sphdfront...</td>\n",
       "    </tr>\n",
       "    <tr>\n",
       "      <th>...</th>\n",
       "      <td>...</td>\n",
       "      <td>...</td>\n",
       "    </tr>\n",
       "    <tr>\n",
       "      <th>413835</th>\n",
       "      <td>samsung convoy u640 phone for verizon wireless...</td>\n",
       "      <td>samsung convoy u phone verizon wireless networ...</td>\n",
       "    </tr>\n",
       "    <tr>\n",
       "      <th>413836</th>\n",
       "      <td>samsung convoy u640 phone for verizon wireless...</td>\n",
       "      <td>samsung convoy u phone verizon wireless networ...</td>\n",
       "    </tr>\n",
       "    <tr>\n",
       "      <th>413837</th>\n",
       "      <td>samsung convoy u640 phone for verizon wireless...</td>\n",
       "      <td>samsung convoy u phone verizon wireless networ...</td>\n",
       "    </tr>\n",
       "    <tr>\n",
       "      <th>413838</th>\n",
       "      <td>samsung convoy u640 phone for verizon wireless...</td>\n",
       "      <td>samsung convoy u phone verizon wireless networ...</td>\n",
       "    </tr>\n",
       "    <tr>\n",
       "      <th>413839</th>\n",
       "      <td>samsung convoy u640 phone for verizon wireless...</td>\n",
       "      <td>samsung convoy u phone verizon wireless networ...</td>\n",
       "    </tr>\n",
       "  </tbody>\n",
       "</table>\n",
       "<p>334335 rows × 2 columns</p>\n",
       "</div>"
      ],
      "text/plain": [
       "                                             Product Name  \\\n",
       "0       \"clear clean esn\" sprint epic 4g galaxy sph-d7...   \n",
       "1       \"clear clean esn\" sprint epic 4g galaxy sph-d7...   \n",
       "2       \"clear clean esn\" sprint epic 4g galaxy sph-d7...   \n",
       "3       \"clear clean esn\" sprint epic 4g galaxy sph-d7...   \n",
       "4       \"clear clean esn\" sprint epic 4g galaxy sph-d7...   \n",
       "...                                                   ...   \n",
       "413835  samsung convoy u640 phone for verizon wireless...   \n",
       "413836  samsung convoy u640 phone for verizon wireless...   \n",
       "413837  samsung convoy u640 phone for verizon wireless...   \n",
       "413838  samsung convoy u640 phone for verizon wireless...   \n",
       "413839  samsung convoy u640 phone for verizon wireless...   \n",
       "\n",
       "                                               Product Id  \n",
       "0       clear clean esn sprint epic g galaxy sphdfront...  \n",
       "1       clear clean esn sprint epic g galaxy sphdfront...  \n",
       "2       clear clean esn sprint epic g galaxy sphdfront...  \n",
       "3       clear clean esn sprint epic g galaxy sphdfront...  \n",
       "4       clear clean esn sprint epic g galaxy sphdfront...  \n",
       "...                                                   ...  \n",
       "413835  samsung convoy u phone verizon wireless networ...  \n",
       "413836  samsung convoy u phone verizon wireless networ...  \n",
       "413837  samsung convoy u phone verizon wireless networ...  \n",
       "413838  samsung convoy u phone verizon wireless networ...  \n",
       "413839  samsung convoy u phone verizon wireless networ...  \n",
       "\n",
       "[334335 rows x 2 columns]"
      ]
     },
     "execution_count": 14,
     "metadata": {},
     "output_type": "execute_result"
    }
   ],
   "source": [
    "df[['Product Name','Product Id']]"
   ]
  },
  {
   "cell_type": "code",
   "execution_count": 15,
   "id": "e5045ed6",
   "metadata": {},
   "outputs": [
    {
     "data": {
      "text/html": [
       "<div>\n",
       "<style scoped>\n",
       "    .dataframe tbody tr th:only-of-type {\n",
       "        vertical-align: middle;\n",
       "    }\n",
       "\n",
       "    .dataframe tbody tr th {\n",
       "        vertical-align: top;\n",
       "    }\n",
       "\n",
       "    .dataframe thead th {\n",
       "        text-align: right;\n",
       "    }\n",
       "</style>\n",
       "<table border=\"1\" class=\"dataframe\">\n",
       "  <thead>\n",
       "    <tr style=\"text-align: right;\">\n",
       "      <th></th>\n",
       "      <th>Reviews</th>\n",
       "      <th>Review</th>\n",
       "    </tr>\n",
       "  </thead>\n",
       "  <tbody>\n",
       "    <tr>\n",
       "      <th>0</th>\n",
       "      <td>i feel so lucky to have found this used (phone...</td>\n",
       "      <td>feel lucky found phone hard phone line upgrade...</td>\n",
       "    </tr>\n",
       "    <tr>\n",
       "      <th>1</th>\n",
       "      <td>nice phone, nice up grade from my pantach revu...</td>\n",
       "      <td>nice phone nice grade pantach revue clean set ...</td>\n",
       "    </tr>\n",
       "    <tr>\n",
       "      <th>2</th>\n",
       "      <td>very pleased</td>\n",
       "      <td>pleased</td>\n",
       "    </tr>\n",
       "    <tr>\n",
       "      <th>3</th>\n",
       "      <td>it works good but it goes slow sometimes but i...</td>\n",
       "      <td>works good goes slow good phone love</td>\n",
       "    </tr>\n",
       "    <tr>\n",
       "      <th>4</th>\n",
       "      <td>great phone to replace my lost phone. the only...</td>\n",
       "      <td>great phone replace lost phone thing volume bu...</td>\n",
       "    </tr>\n",
       "    <tr>\n",
       "      <th>...</th>\n",
       "      <td>...</td>\n",
       "      <td>...</td>\n",
       "    </tr>\n",
       "    <tr>\n",
       "      <th>413835</th>\n",
       "      <td>another great deal great price</td>\n",
       "      <td>great deal great price</td>\n",
       "    </tr>\n",
       "    <tr>\n",
       "      <th>413836</th>\n",
       "      <td>ok</td>\n",
       "      <td>ok</td>\n",
       "    </tr>\n",
       "    <tr>\n",
       "      <th>413837</th>\n",
       "      <td>passes every drop test onto porcelain tile!</td>\n",
       "      <td>passes drop test porcelain tile</td>\n",
       "    </tr>\n",
       "    <tr>\n",
       "      <th>413838</th>\n",
       "      <td>i returned it because it did not meet my needs...</td>\n",
       "      <td>returned meet needs good selection</td>\n",
       "    </tr>\n",
       "    <tr>\n",
       "      <th>413839</th>\n",
       "      <td>only downside is that apparently verizon no lo...</td>\n",
       "      <td>downside apparently verizon longer uses vcast ...</td>\n",
       "    </tr>\n",
       "  </tbody>\n",
       "</table>\n",
       "<p>334335 rows × 2 columns</p>\n",
       "</div>"
      ],
      "text/plain": [
       "                                                  Reviews  \\\n",
       "0       i feel so lucky to have found this used (phone...   \n",
       "1       nice phone, nice up grade from my pantach revu...   \n",
       "2                                            very pleased   \n",
       "3       it works good but it goes slow sometimes but i...   \n",
       "4       great phone to replace my lost phone. the only...   \n",
       "...                                                   ...   \n",
       "413835                     another great deal great price   \n",
       "413836                                                 ok   \n",
       "413837        passes every drop test onto porcelain tile!   \n",
       "413838  i returned it because it did not meet my needs...   \n",
       "413839  only downside is that apparently verizon no lo...   \n",
       "\n",
       "                                                   Review  \n",
       "0       feel lucky found phone hard phone line upgrade...  \n",
       "1       nice phone nice grade pantach revue clean set ...  \n",
       "2                                                 pleased  \n",
       "3                    works good goes slow good phone love  \n",
       "4       great phone replace lost phone thing volume bu...  \n",
       "...                                                   ...  \n",
       "413835                             great deal great price  \n",
       "413836                                                 ok  \n",
       "413837                    passes drop test porcelain tile  \n",
       "413838                 returned meet needs good selection  \n",
       "413839  downside apparently verizon longer uses vcast ...  \n",
       "\n",
       "[334335 rows x 2 columns]"
      ]
     },
     "execution_count": 15,
     "metadata": {},
     "output_type": "execute_result"
    }
   ],
   "source": [
    "df[['Reviews','Review']]"
   ]
  },
  {
   "cell_type": "code",
   "execution_count": 17,
   "id": "de6f4146",
   "metadata": {},
   "outputs": [],
   "source": [
    "'''here i made a function to take all columns than remove\n",
    "stopwords from that further convert them into list'''\n",
    "def get_clean_list (new_column_name):\n",
    "    clean_list = df[new_column_name].apply(nfx.remove_stopwords).tolist()\n",
    "    return clean_list"
   ]
  },
  {
   "cell_type": "code",
   "execution_count": 20,
   "id": "984219c9",
   "metadata": {},
   "outputs": [],
   "source": [
    "list_of_Product_Id = get_clean_list('Product Id')"
   ]
  },
  {
   "cell_type": "code",
   "execution_count": 42,
   "id": "e6858065",
   "metadata": {},
   "outputs": [],
   "source": [
    "#list_of_Product_Id"
   ]
  },
  {
   "cell_type": "code",
   "execution_count": 24,
   "id": "1b2670ff",
   "metadata": {},
   "outputs": [],
   "source": [
    "list_of_Review = get_clean_list('Review')"
   ]
  },
  {
   "cell_type": "code",
   "execution_count": 41,
   "id": "95844a2d",
   "metadata": {},
   "outputs": [],
   "source": [
    "#list_of_Review"
   ]
  },
  {
   "cell_type": "markdown",
   "id": "efd5af48",
   "metadata": {},
   "source": [
    "# TOKENAZATION"
   ]
  },
  {
   "cell_type": "code",
   "execution_count": 28,
   "id": "5f53574e",
   "metadata": {},
   "outputs": [],
   "source": [
    "#here i made a function for tokenazation in which each sentence is going to broken into single word\n",
    "def get_token (function_name):\n",
    "    tokens = [token for line in function_name for token in line.split()]\n",
    "    return tokens"
   ]
  },
  {
   "cell_type": "code",
   "execution_count": 29,
   "id": "94b1c6b5",
   "metadata": {},
   "outputs": [],
   "source": [
    "tokenazation_of_Product_Id = get_token(list_of_Product_Id)"
   ]
  },
  {
   "cell_type": "code",
   "execution_count": 39,
   "id": "574b97f0",
   "metadata": {},
   "outputs": [],
   "source": [
    "#tokenazation_of_Product_Id"
   ]
  },
  {
   "cell_type": "code",
   "execution_count": 32,
   "id": "ab488cd2",
   "metadata": {},
   "outputs": [],
   "source": [
    "tokenazation_of_Review = get_token(list_of_Review)"
   ]
  },
  {
   "cell_type": "code",
   "execution_count": 40,
   "id": "c6d003f5",
   "metadata": {},
   "outputs": [],
   "source": [
    "#tokenazation_of_Review"
   ]
  },
  {
   "cell_type": "code",
   "execution_count": null,
   "id": "5179d3e4",
   "metadata": {},
   "outputs": [],
   "source": []
  }
 ],
 "metadata": {
  "kernelspec": {
   "display_name": "Python 3 (ipykernel)",
   "language": "python",
   "name": "python3"
  },
  "language_info": {
   "codemirror_mode": {
    "name": "ipython",
    "version": 3
   },
   "file_extension": ".py",
   "mimetype": "text/x-python",
   "name": "python",
   "nbconvert_exporter": "python",
   "pygments_lexer": "ipython3",
   "version": "3.9.12"
  }
 },
 "nbformat": 4,
 "nbformat_minor": 5
}
